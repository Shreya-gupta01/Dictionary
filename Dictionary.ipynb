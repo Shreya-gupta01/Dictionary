{
 "cells": [
  {
   "cell_type": "code",
   "execution_count": 25,
   "metadata": {},
   "outputs": [
    {
     "name": "stdout",
     "output_type": "stream",
     "text": [
      "enter the word you want to search:supermann\n",
      "did u mean superman instead\n",
      "Press y for yes and n for noy\n",
      "A powerful hallucinogenic drug manufactured from lysergic acid.\n"
     ]
    }
   ],
   "source": [
    "import json\n",
    "from difflib import get_close_matches\n",
    "\n",
    "data=json.load(open(\"data.json\"))\n",
    "def translate(word):\n",
    "    word = word.lower()\n",
    "    if word in data:\n",
    "        return data[word]\n",
    "    elif word.title() in data:\n",
    "        return data[word.title()]\n",
    "    elif word.upper() in data:\n",
    "        return data[word.upper()]\n",
    "    elif len(get_close_matches(word,data.keys())) > 0:\n",
    "        print(\"did u mean %s instead\" %get_close_matches(word,data.keys())[0])\n",
    "        user=input(\"Press y for yes and n for no\")\n",
    "        if user==\"y\":\n",
    "            return data[get_close_matches(word,data.keys())[0]]\n",
    "        elif user==\"n\":\n",
    "            return('Sorry,word not found.') \n",
    "        else:\n",
    "            print('Your input is wrong')\n",
    "            \n",
    "    else:\n",
    "        print(\"Sorry,word not found.\")\n",
    "    \n",
    "word=input(\"enter the word you want to search:\")\n",
    "output=translate(word)\n",
    "if type(output)==list:\n",
    "    for i in output:\n",
    "        print(i)\n",
    "else:\n",
    "    print(output)"
   ]
  },
  {
   "cell_type": "code",
   "execution_count": null,
   "metadata": {},
   "outputs": [],
   "source": []
  }
 ],
 "metadata": {
  "kernelspec": {
   "display_name": "Python 3",
   "language": "python",
   "name": "python3"
  },
  "language_info": {
   "codemirror_mode": {
    "name": "ipython",
    "version": 3
   },
   "file_extension": ".py",
   "mimetype": "text/x-python",
   "name": "python",
   "nbconvert_exporter": "python",
   "pygments_lexer": "ipython3",
   "version": "3.7.4"
  }
 },
 "nbformat": 4,
 "nbformat_minor": 2
}
